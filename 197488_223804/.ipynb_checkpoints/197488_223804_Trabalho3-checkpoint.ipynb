{
 "cells": [
  {
   "cell_type": "markdown",
   "id": "06fb1247",
   "metadata": {},
   "source": [
    "# MO444A - PROJETO 3\n",
    "\n",
    "Alunas:\n",
    "*   Maria Tejada Begazo (RA 197488)\n",
    "*   Nayara Ferreira da Silva (RA 223804)"
   ]
  },
  {
   "cell_type": "markdown",
   "id": "6f5c464b",
   "metadata": {},
   "source": [
    "# PART I - CODIGO"
   ]
  },
  {
   "cell_type": "code",
   "execution_count": 6,
   "id": "8f4a5449",
   "metadata": {},
   "outputs": [
    {
     "name": "stdout",
     "output_type": "stream",
     "text": [
      "/home/mtejada/Desktop/PacamanML/197488_/search\n"
     ]
    }
   ],
   "source": [
    "import os\n",
    "import random\n",
    "import numpy as np\n",
    "\n",
    "os.system('Xvfb :1 -screen 0 1600x1200x16  &')    # create virtual display with size 1600x1200 and 16 bit color. Color can be changed to 24 or 8\n",
    "os.environ['DISPLAY']=':1.0'    # tell X clients to use our virtual DISPLAY :1.0\n",
    "\n",
    "%cd search"
   ]
  },
  {
   "cell_type": "markdown",
   "id": "a3846034",
   "metadata": {},
   "source": [
    "## ALGORITMO GENETICO\n"
   ]
  },
  {
   "cell_type": "markdown",
   "id": "37a7bde7",
   "metadata": {},
   "source": [
    "Nós modelamos nosso algoritmo genetico esta modelado em que temos 4 opções básica determinadas por um if-then-else.\n",
    "Onde nossos terminaies estão determinados por:\n",
    "\n",
    "* d1: distancia entre o fantasma mas cercano. \n",
    "* d2: distancia entre la pildora mas cercana. \n",
    "* a1: escapar de un fantasma\n",
    "* a2: ir a comer una pildora cercana\n",
    "* a3: movimiento aleatorio. \n",
    "\n",
    "Ademáis vimos la opção de só ter como recompensa o score médio de 3 jogos seguidos. \n",
    "Nosso individuos estão formado por 8 parametros, por exemplo:\n",
    "\n",
    "    [op, d1, d2, dist1, dist2, a1, a2, a3]\n",
    "\n",
    "onde op se refiere à opção que pode ser de 1 à 4, depois d1 e d2 que se informo na parte de em cima, dist1 e dist2 podem estar no rango de 1 à 5 e a1, a2, a3 que se refierem às ações. \n",
    "\n",
    "Nosso crossver em dois pontos:\n",
    "\n",
    "    parent1 =[1, d1, d2, 3, 4, a1, a2, a3]    => child1 =[1, d2, d1, 1, 2, a1, a2, a3] \n",
    "    \n",
    "    parent2 =[3, d2, d1, 1, 2, a3, a2, a1]    => child2 =[3, d1, d2, 3, 4, a3, a2, a1]\n",
    "    \n",
    "A mutação esta determinado nos pontos que são enteiros, onde trocara o número de forma aleatoria. \n"
   ]
  },
  {
   "cell_type": "code",
   "execution_count": 7,
   "id": "bc74fa64",
   "metadata": {},
   "outputs": [],
   "source": [
    "def initialization_of_population(size):\n",
    "    op = [1, 2, 3, 4]\n",
    "    d  = ['d1', 'd2']\n",
    "    dis= [1, 2, 3, 4]\n",
    "    a  = ['a1', 'a2', 'a3']\n",
    "    \n",
    "    popul = []\n",
    "    for i in range(size):\n",
    "        indiv = list(np.ones(len(op) + len(d) + len(dis) + len(a)))\n",
    "        random.shuffle(op)\n",
    "        random.shuffle(d)\n",
    "        random.shuffle(dis)\n",
    "        random.shuffle(a)\n",
    "        indiv[0] = op[0]\n",
    "        indiv[1:3] = d\n",
    "        indiv[3] = dis[0]\n",
    "        random.shuffle(dis)\n",
    "        indiv[4] = dis[0]\n",
    "        indiv[5:] = a\n",
    "        popul.append(indiv.copy())\n",
    "    return popul\n",
    "        "
   ]
  },
  {
   "cell_type": "code",
   "execution_count": 8,
   "id": "68ec5a82",
   "metadata": {},
   "outputs": [],
   "source": [
    "def crossover_twopoints(parent1, parent2, PROBABILITY_CROSSOVER):\n",
    "    child1 = parent1.copy()\n",
    "    child2 = parent2.copy()\n",
    "    probability = np.random.uniform(0,1)\n",
    "    \n",
    "    if probability < PROBABILITY_CROSSOVER:\n",
    "        for i in range(1,5):\n",
    "            child1[i] = parent2[i]\n",
    "            child2[i] = parent1[i]\n",
    "    return child1, child2\n",
    "\n",
    "def mutation_point(indiv, PROBABILITY_MUTATION):\n",
    "    index_mut = [0, 3, 4]\n",
    "    random.shuffle(index_mut)\n",
    "    probability = np.random.uniform(0,1)\n",
    "    \n",
    "    if probability < PROBABILITY_MUTATION:\n",
    "        indiv[index_mut[0]] = random.randint(1,4)\n",
    "    return indiv\n"
   ]
  },
  {
   "cell_type": "code",
   "execution_count": 9,
   "id": "7f99f976",
   "metadata": {},
   "outputs": [],
   "source": [
    "def selection_tournament(population, scores):\n",
    "    indx1 = random.randint(0, len(population)-1)\n",
    "    indx2 = random.randint(0, len(population)-1)\n",
    "    \n",
    "    if scores[indx1] < scores[indx2]:\n",
    "        return population[indx2]\n",
    "    else:\n",
    "        return population[indx1]"
   ]
  },
  {
   "cell_type": "code",
   "execution_count": 31,
   "id": "8df6fdd8",
   "metadata": {},
   "outputs": [],
   "source": [
    "def algorithmGenetic(Environment, size, iteration, PROBABILITY_CROSSOVER, PROBABILITY_MUTATION):\n",
    "    pop = initialization_of_population(size)\n",
    "    \n",
    "    nameFile = \"GAindividual.txt\"\n",
    "    nameFileGeneration = \"GAGeneration.txt\"\n",
    "    nameFileData = \"GAData.txt\"\n",
    "    score_aver = []\n",
    "    score_best = []\n",
    "    score_pior = []\n",
    "    \n",
    "    dataFile = open(nameFileData, 'w')\n",
    "    generationFile = open(nameFileGeneration, 'w')\n",
    "    dataFile.write(\"Avr_better,Avr,Avr_pior\\n\")\n",
    "    \n",
    "    for i in range(iteration):\n",
    "        score = []\n",
    "        best_score = -99999\n",
    "        best_Indx_indiv = 0\n",
    "        \n",
    "        generationFile.write(str(i) + \",\")\n",
    "        for j in range(size):\n",
    "            for k in range(len(pop[j])):\n",
    "                generationFile.write(str(pop[j][k]) + \",\")\n",
    "            generationFile.write('\\n')\n",
    "        #generationFile.flush()\n",
    "        \n",
    "        for j in range(size):\n",
    "            with open(nameFile, 'w') as f:\n",
    "                f.write(str(pop[j]))\n",
    "                f.write(\"\\n\")\n",
    "            \n",
    "            p = ['layout:  smallClassic', 'Pacman died! Score: -482', 'Pacman died! Score: -412', 'Pacman died! Score: -410', 'Average Score: -434.6666666666667']\n",
    "            if Environment == 0:\n",
    "                p = !python3 pacman.py -n 3 -l smallClassic -p GAagents --agentArgs \"tableMode=Small,f=GAindividual.txt\"\n",
    "            elif Environment == 1:\n",
    "                print(\"Entre aqui\")\n",
    "                p = !python3 pacman.py -n 3 -l mediumClassic -p GAagents --agentArgs \"tableMode=Medium,f=GAindividual.txt\"\n",
    "            else:\n",
    "                p = !python3 pacman.py -n 3 -l originalClassic -p GAagents --agentArgs \"tableMode=Original,f=GAindividual.txt\"\n",
    "            \n",
    "            print(p)\n",
    "            score.append(int(float(p[4].split(' ')[2])))\n",
    "            \n",
    "            if(score[j]  > best_score):\n",
    "                best_score = score[j]\n",
    "                best_Indx_indiv = j\n",
    "        \n",
    "        q = pop.copy()\n",
    "        indx = 0\n",
    "        for j in range(int(size/2)):\n",
    "            mom = selection_tournament(pop, score)\n",
    "            dad = selection_tournament(pop, score)\n",
    "            child1, child2 = crossover_twopoints(mom, dad, PROBABILITY_CROSSOVER)\n",
    "            q[indx] = mutation_point(child1, PROBABILITY_MUTATION)\n",
    "            q[indx+1] = child2\n",
    "            indx+=2\n",
    "        \n",
    "        score_best.append(max(score))\n",
    "        score_aver.append(sum(score)/size)\n",
    "        score_pior.append(min(score))\n",
    "        \n",
    "        dataFile.write(str(max(score)) + \",\" + str(sum(score)/size) + \",\" + str(min(score)) + \"\\n\")\n",
    "        dataFile.flush()\n",
    "        print(score_best, score_aver, score_pior)\n",
    "        q[0] = pop[best_Indx_indiv]\n",
    "        pop = q\n",
    "    \n",
    "    return pop[0],score_aver, score_best, score_pior\n"
   ]
  },
  {
   "cell_type": "code",
   "execution_count": 32,
   "id": "a6a17dc8",
   "metadata": {},
   "outputs": [
    {
     "name": "stdout",
     "output_type": "stream",
     "text": [
      "Entre aqui\n",
      "['layout:  mediumClassic', 'Traceback (most recent call last):', '  File \"pacman.py\", line 690, in <module>', '    runGames( **args )', '  File \"pacman.py\", line 655, in runGames', '    game.run()', '  File \"/home/mtejada/Desktop/PacamanML/197488_/search/game.py\", line 571, in run', '    self.display.initialize(self.state.data)', '  File \"/home/mtejada/Desktop/PacamanML/197488_/search/graphicsDisplay.py\", line 171, in initialize', '    self.startGraphics(state)', '  File \"/home/mtejada/Desktop/PacamanML/197488_/search/graphicsDisplay.py\", line 186, in startGraphics', '    self.make_window(self.width, self.height)', '  File \"/home/mtejada/Desktop/PacamanML/197488_/search/graphicsDisplay.py\", line 263, in make_window', '    begin_graphics(screen_width,', '  File \"/home/mtejada/Desktop/PacamanML/197488_/search/graphicsUtils.py\", line 72, in begin_graphics', '    _root_window = tkinter.Tk()', '  File \"/usr/lib/python3.8/tkinter/__init__.py\", line 2270, in __init__', '    self.tk = _tkinter.create(screenName, baseName, className, interactive, wantobjects, useTk, sync, use)', '_tkinter.TclError: couldn\\'t connect to display \":1.0\"']\n"
     ]
    },
    {
     "ename": "ValueError",
     "evalue": "could not convert string to float: 'File'",
     "output_type": "error",
     "traceback": [
      "\u001b[0;31m---------------------------------------------------------------------------\u001b[0m",
      "\u001b[0;31mValueError\u001b[0m                                Traceback (most recent call last)",
      "\u001b[0;32m<ipython-input-32-da50f428a3d1>\u001b[0m in \u001b[0;36m<module>\u001b[0;34m\u001b[0m\n\u001b[0;32m----> 1\u001b[0;31m \u001b[0mbestInd\u001b[0m\u001b[0;34m,\u001b[0m \u001b[0mscore_aver\u001b[0m\u001b[0;34m,\u001b[0m \u001b[0mscore_best\u001b[0m\u001b[0;34m,\u001b[0m \u001b[0mscore_pior\u001b[0m \u001b[0;34m=\u001b[0m \u001b[0malgorithmGenetic\u001b[0m\u001b[0;34m(\u001b[0m\u001b[0;36m1\u001b[0m\u001b[0;34m,\u001b[0m \u001b[0;36m25\u001b[0m\u001b[0;34m,\u001b[0m\u001b[0;36m50\u001b[0m\u001b[0;34m,\u001b[0m \u001b[0;36m0.70\u001b[0m\u001b[0;34m,\u001b[0m \u001b[0;36m0.20\u001b[0m \u001b[0;34m)\u001b[0m\u001b[0;34m\u001b[0m\u001b[0;34m\u001b[0m\u001b[0m\n\u001b[0m",
      "\u001b[0;32m<ipython-input-31-6f740b0ebcd4>\u001b[0m in \u001b[0;36malgorithmGenetic\u001b[0;34m(Environment, size, iteration, PROBABILITY_CROSSOVER, PROBABILITY_MUTATION)\u001b[0m\n\u001b[1;32m     40\u001b[0m \u001b[0;34m\u001b[0m\u001b[0m\n\u001b[1;32m     41\u001b[0m             \u001b[0mprint\u001b[0m\u001b[0;34m(\u001b[0m\u001b[0mp\u001b[0m\u001b[0;34m)\u001b[0m\u001b[0;34m\u001b[0m\u001b[0;34m\u001b[0m\u001b[0m\n\u001b[0;32m---> 42\u001b[0;31m             \u001b[0mscore\u001b[0m\u001b[0;34m.\u001b[0m\u001b[0mappend\u001b[0m\u001b[0;34m(\u001b[0m\u001b[0mint\u001b[0m\u001b[0;34m(\u001b[0m\u001b[0mfloat\u001b[0m\u001b[0;34m(\u001b[0m\u001b[0mp\u001b[0m\u001b[0;34m[\u001b[0m\u001b[0;36m4\u001b[0m\u001b[0;34m]\u001b[0m\u001b[0;34m.\u001b[0m\u001b[0msplit\u001b[0m\u001b[0;34m(\u001b[0m\u001b[0;34m' '\u001b[0m\u001b[0;34m)\u001b[0m\u001b[0;34m[\u001b[0m\u001b[0;36m2\u001b[0m\u001b[0;34m]\u001b[0m\u001b[0;34m)\u001b[0m\u001b[0;34m)\u001b[0m\u001b[0;34m)\u001b[0m\u001b[0;34m\u001b[0m\u001b[0;34m\u001b[0m\u001b[0m\n\u001b[0m\u001b[1;32m     43\u001b[0m \u001b[0;34m\u001b[0m\u001b[0m\n\u001b[1;32m     44\u001b[0m             \u001b[0;32mif\u001b[0m\u001b[0;34m(\u001b[0m\u001b[0mscore\u001b[0m\u001b[0;34m[\u001b[0m\u001b[0mj\u001b[0m\u001b[0;34m]\u001b[0m  \u001b[0;34m>\u001b[0m \u001b[0mbest_score\u001b[0m\u001b[0;34m)\u001b[0m\u001b[0;34m:\u001b[0m\u001b[0;34m\u001b[0m\u001b[0;34m\u001b[0m\u001b[0m\n",
      "\u001b[0;31mValueError\u001b[0m: could not convert string to float: 'File'"
     ]
    }
   ],
   "source": [
    "bestInd, score_aver, score_best, score_pior = algorithmGenetic(1, 25,50, 0.70, 0.20 )"
   ]
  },
  {
   "cell_type": "markdown",
   "id": "40e5d522",
   "metadata": {},
   "source": [
    "## REINFORCEMENT LEARNING\n"
   ]
  },
  {
   "cell_type": "markdown",
   "id": "0884a520",
   "metadata": {},
   "source": []
  },
  {
   "cell_type": "code",
   "execution_count": null,
   "id": "8454a71f",
   "metadata": {},
   "outputs": [],
   "source": []
  },
  {
   "cell_type": "code",
   "execution_count": null,
   "id": "d26728f7",
   "metadata": {},
   "outputs": [],
   "source": []
  },
  {
   "cell_type": "code",
   "execution_count": null,
   "id": "a439d4cf",
   "metadata": {},
   "outputs": [],
   "source": []
  },
  {
   "cell_type": "markdown",
   "id": "33a27f8d",
   "metadata": {},
   "source": [
    "## RESULTADOS"
   ]
  },
  {
   "cell_type": "code",
   "execution_count": null,
   "id": "e65a4395",
   "metadata": {},
   "outputs": [],
   "source": []
  },
  {
   "cell_type": "code",
   "execution_count": null,
   "id": "1b294582",
   "metadata": {},
   "outputs": [],
   "source": []
  },
  {
   "cell_type": "code",
   "execution_count": null,
   "id": "48f6a83f",
   "metadata": {},
   "outputs": [],
   "source": []
  },
  {
   "cell_type": "code",
   "execution_count": null,
   "id": "a0eff645",
   "metadata": {},
   "outputs": [],
   "source": []
  },
  {
   "cell_type": "code",
   "execution_count": 48,
   "id": "106ad54d",
   "metadata": {},
   "outputs": [],
   "source": [
    "nameFile = \"GAindividual.txt\"\n",
    "\n",
    "with open(nameFile, 'w') as f:\n",
    "    f.write(str(bestInd))\n",
    "    f.write(\"\\n\")"
   ]
  },
  {
   "cell_type": "code",
   "execution_count": 105,
   "id": "c4a0f0b9",
   "metadata": {},
   "outputs": [
    {
     "data": {
      "text/plain": [
       "['layout:  smallClassic',\n",
       " \"[0, 'd2', 'd1', 2, 2, 'a3', 'a2', 'a1']\",\n",
       " 'Pacman died! Score: -468',\n",
       " 'Average Score: -468.0',\n",
       " 'Scores:        -468.0',\n",
       " 'Win Rate:      0/1 (0.00)',\n",
       " 'Record:        Loss']"
      ]
     },
     "execution_count": 105,
     "metadata": {},
     "output_type": "execute_result"
    }
   ],
   "source": [
    "p = !python3 pacman.py -n 1 -l smallClassic -p GAagents --agentArgs \"tableMode=Small,f=GAindividual.txt\"\n",
    "p"
   ]
  }
 ],
 "metadata": {
  "kernelspec": {
   "display_name": "Python 3",
   "language": "python",
   "name": "python3"
  },
  "language_info": {
   "codemirror_mode": {
    "name": "ipython",
    "version": 3
   },
   "file_extension": ".py",
   "mimetype": "text/x-python",
   "name": "python",
   "nbconvert_exporter": "python",
   "pygments_lexer": "ipython3",
   "version": "3.8.10"
  }
 },
 "nbformat": 4,
 "nbformat_minor": 5
}
