{
 "cells": [
  {
   "cell_type": "markdown",
   "id": "06fb1247",
   "metadata": {},
   "source": [
    "# MO444A - PROJETO 3\n",
    "\n",
    "Alunas:\n",
    "*   Maria Tejada Begazo (RA 197488)\n",
    "*   Nayara Ferreira da Silva (RA 223804)"
   ]
  },
  {
   "cell_type": "markdown",
   "id": "6f5c464b",
   "metadata": {},
   "source": [
    "# PART I - CODIGO"
   ]
  },
  {
   "cell_type": "code",
   "execution_count": 55,
   "id": "8f4a5449",
   "metadata": {},
   "outputs": [
    {
     "name": "stdout",
     "output_type": "stream",
     "text": [
      "[Errno 2] No such file or directory: 'search'\n",
      "/home/mtejada/Desktop/PacamanML/197488_/search\n"
     ]
    }
   ],
   "source": [
    "import os\n",
    "import random\n",
    "import numpy as np\n",
    "\n",
    "os.system('Xvfb :1 -screen 0 1600x1200x16  &')    # create virtual display with size 1600x1200 and 16 bit color. Color can be changed to 24 or 8\n",
    "os.environ['DISPLAY']=':1.0'    # tell X clients to use our virtual DISPLAY :1.0\n",
    "\n",
    "%cd search"
   ]
  },
  {
   "cell_type": "markdown",
   "id": "a3846034",
   "metadata": {},
   "source": [
    "## ALGORITMO GENETICO\n"
   ]
  },
  {
   "cell_type": "markdown",
   "id": "37a7bde7",
   "metadata": {},
   "source": [
    "Nós modelamos nosso algoritmo genetico esta modelado em que temos 4 opções básica determinadas por um if-then-else.\n",
    "Onde nossos terminaies estão determinados por:\n",
    "    d1: distancia entre o fantasma mas cercano. \n",
    "    d2: distancia entre la pildora mas cercana. \n",
    "    a1: escapar de un fantasma\n",
    "    a2: ir a comer una pildora cercana\n",
    "    a3: movimiento aleatorio. \n",
    "\n",
    "Ademáis vimos la opção de só ter como recompensa o score médio de 3 jogos seguidos. \n",
    "Nosso individuos estão formado por 8 parametros, por exemplo:\n",
    "\n",
    "    [op, d1, d2, dist1, dist2, a1, a2, a3]\n",
    "\n",
    "onde op se refiere à opção que pode ser de 1 à 4, depois d1 e d2 que se informo na parte de em cima, dist1 e dist2 podem estar no rango de 1 à 5 e a1, a2, a3 que se refierem às ações. \n",
    "\n",
    "Nosso crossver em dois pontos:\n",
    "\n",
    "    parent1 =[1, d1, d2, 3, 4, a1, a2, a3]    => child1 =[1, d2, d1, 1, 2, a1, a2, a3] \n",
    "    \n",
    "    parent2 =[3, d2, d1, 1, 2, a3, a2, a1]    => child2 =[3, d1, d2, 3, 4, a3, a2, a1]\n",
    "    \n",
    "A mutação esta determinado nos pontos que são enteiros, onde trocara o número de forma aleatoria. \n"
   ]
  },
  {
   "cell_type": "code",
   "execution_count": 92,
   "id": "bc74fa64",
   "metadata": {},
   "outputs": [],
   "source": [
    "def initialization_of_population(size):\n",
    "    op = [1, 2, 3, 4]\n",
    "    d  = ['d1', 'd2']\n",
    "    dis= [1, 2, 3, 4]\n",
    "    a  = ['a1', 'a2', 'a3']\n",
    "    \n",
    "    popul = []\n",
    "    for i in range(size):\n",
    "        indiv = list(np.ones(len(op) + len(d) + len(dis) + len(a)))\n",
    "        random.shuffle(op)\n",
    "        random.shuffle(d)\n",
    "        random.shuffle(dis)\n",
    "        random.shuffle(a)\n",
    "        indiv[0] = op[0]\n",
    "        indiv[1:3] = d\n",
    "        indiv[3] = dis[0]\n",
    "        random.shuffle(dis)\n",
    "        indiv[4] = dis[0]\n",
    "        indiv[5:] = a\n",
    "        popul.append(indiv.copy())\n",
    "    return popul\n",
    "        "
   ]
  },
  {
   "cell_type": "code",
   "execution_count": 111,
   "id": "68ec5a82",
   "metadata": {},
   "outputs": [],
   "source": [
    "def crossover_twopoints(parent1, parent2, PROBABILITY_CROSSOVER):\n",
    "    child1 = parent1.copy()\n",
    "    child2 = parent2.copy()\n",
    "    probability = np.random.uniform(0,1)\n",
    "    \n",
    "    if probability < PROBABILITY_CROSSOVER:\n",
    "        for i in range(1,5):\n",
    "            child1[i] = parent2[i]\n",
    "            child2[i] = parent1[i]\n",
    "    return child1, child2\n",
    "\n",
    "def mutation_point(indiv, PROBABILITY_MUTATION):\n",
    "    index_mut = [0, 3, 4]\n",
    "    random.shuffle(index_mut)\n",
    "    probability = np.random.uniform(0,1)\n",
    "    \n",
    "    if probability < PROBABILITY_MUTATION:\n",
    "        indiv[index_mut[0]] = random.randint(1,4)\n",
    "    return indiv\n"
   ]
  },
  {
   "cell_type": "code",
   "execution_count": 144,
   "id": "7f99f976",
   "metadata": {},
   "outputs": [],
   "source": [
    "def selection_tournament(population, scores):\n",
    "    indx1 = random.randint(0, len(population)-1)\n",
    "    indx2 = random.randint(0, len(population)-1)\n",
    "    \n",
    "    if scores[indx1] < scores[indx2]:\n",
    "        return population[indx2]\n",
    "    else:\n",
    "        return population[indx1]"
   ]
  },
  {
   "cell_type": "code",
   "execution_count": 145,
   "id": "8df6fdd8",
   "metadata": {},
   "outputs": [],
   "source": [
    "def algorithmGenetic(size, iteration, PROBABILITY_CROSSOVER, PROBABILITY_MUTATION):\n",
    "    pop = initialization_of_population(size)\n",
    "    \n",
    "    nameFile = \"GAindividual.txt\"\n",
    "    score_aver = []\n",
    "    score_best = []\n",
    "    score_pior = []\n",
    "    \n",
    "    for i in range(iteration):\n",
    "        score = []\n",
    "        best_score = -99999\n",
    "        best_Indx_indiv = 0\n",
    "        for j in range(size):\n",
    "            with open(nameFile, 'w') as f:\n",
    "                f.write(str(pop[j]))\n",
    "                f.write(\"\\n\")\n",
    "                \n",
    "            p = !python3 pacman.py -n 1 -l smallClassic -p GAagents --agentArgs \"tableMode=Small,f=GAindividual.txt\"\n",
    "            \n",
    "            score.append(int(float(p[2].split(' ')[2])))\n",
    "            \n",
    "            if(score[j]  > best_score):\n",
    "                best_score = score[j]\n",
    "                best_Indx_indiv = j\n",
    "        \n",
    "        q = pop.copy()\n",
    "        indx = 0\n",
    "        for j in range(int(size/2)):\n",
    "            mom = selection_tournament(pop, score)\n",
    "            dad = selection_tournament(pop, score)\n",
    "            child1, child2 = crossover_twopoints(mom, dad, PROBABILITY_CROSSOVER)\n",
    "            q[indx] = mutation_point(child1, PROBABILITY_MUTATION)\n",
    "            q[indx+1] = child2\n",
    "            indx+=2\n",
    "        \n",
    "        score_best.append(max(score))\n",
    "        score_aver.append(sum(score)/size)\n",
    "        score_pior.append(min(score))\n",
    "        \n",
    "        print(score_best, score_aver, score_pior)\n",
    "        q[0] = pop[best_Indx_indiv]\n",
    "        pop = q\n",
    "    \n",
    "    return pop[0],score_aver, score_best, score_pior\n"
   ]
  },
  {
   "cell_type": "code",
   "execution_count": 146,
   "id": "a6a17dc8",
   "metadata": {},
   "outputs": [
    {
     "name": "stdout",
     "output_type": "stream",
     "text": [
      "[-400] [-438.75] [-464]\n",
      "[-400, -409] [-438.75, -442.5] [-464, -470]\n"
     ]
    },
    {
     "data": {
      "text/plain": [
       "([4, 'd1', 'd2', 3, 4, 'a3', 'a2', 'a1'],\n",
       " [-438.75, -442.5],\n",
       " [-400, -409],\n",
       " [-464, -470])"
      ]
     },
     "execution_count": 146,
     "metadata": {},
     "output_type": "execute_result"
    }
   ],
   "source": [
    "algorithmGenetic(4,2, 0.70, 0.20 )"
   ]
  },
  {
   "cell_type": "markdown",
   "id": "40e5d522",
   "metadata": {},
   "source": [
    "## REINFORCEMENT LEARNING\n"
   ]
  },
  {
   "cell_type": "code",
   "execution_count": null,
   "id": "0188ebc2",
   "metadata": {},
   "outputs": [],
   "source": []
  },
  {
   "cell_type": "code",
   "execution_count": null,
   "id": "8454a71f",
   "metadata": {},
   "outputs": [],
   "source": []
  },
  {
   "cell_type": "code",
   "execution_count": null,
   "id": "d26728f7",
   "metadata": {},
   "outputs": [],
   "source": []
  },
  {
   "cell_type": "code",
   "execution_count": null,
   "id": "a439d4cf",
   "metadata": {},
   "outputs": [],
   "source": []
  },
  {
   "cell_type": "markdown",
   "id": "33a27f8d",
   "metadata": {},
   "source": [
    "## RESULTADOS"
   ]
  },
  {
   "cell_type": "code",
   "execution_count": null,
   "id": "e65a4395",
   "metadata": {},
   "outputs": [],
   "source": []
  },
  {
   "cell_type": "code",
   "execution_count": null,
   "id": "1b294582",
   "metadata": {},
   "outputs": [],
   "source": []
  },
  {
   "cell_type": "code",
   "execution_count": null,
   "id": "48f6a83f",
   "metadata": {},
   "outputs": [],
   "source": []
  },
  {
   "cell_type": "code",
   "execution_count": null,
   "id": "a0eff645",
   "metadata": {},
   "outputs": [],
   "source": []
  },
  {
   "cell_type": "code",
   "execution_count": 48,
   "id": "106ad54d",
   "metadata": {},
   "outputs": [],
   "source": [
    "nameFile = \"GAindividual.txt\"\n",
    "\n",
    "with open(nameFile, 'w') as f:\n",
    "    f.write(str(q))\n",
    "    f.write(\"\\n\")"
   ]
  },
  {
   "cell_type": "code",
   "execution_count": 105,
   "id": "c4a0f0b9",
   "metadata": {},
   "outputs": [
    {
     "data": {
      "text/plain": [
       "['layout:  smallClassic',\n",
       " \"[0, 'd2', 'd1', 2, 2, 'a3', 'a2', 'a1']\",\n",
       " 'Pacman died! Score: -468',\n",
       " 'Average Score: -468.0',\n",
       " 'Scores:        -468.0',\n",
       " 'Win Rate:      0/1 (0.00)',\n",
       " 'Record:        Loss']"
      ]
     },
     "execution_count": 105,
     "metadata": {},
     "output_type": "execute_result"
    }
   ],
   "source": [
    "p = !python3 pacman.py -n 1 -l smallClassic -p GAagents --agentArgs \"tableMode=Small,f=GAindividual.txt\"\n",
    "p"
   ]
  }
 ],
 "metadata": {
  "kernelspec": {
   "display_name": "Python 3",
   "language": "python",
   "name": "python3"
  },
  "language_info": {
   "codemirror_mode": {
    "name": "ipython",
    "version": 3
   },
   "file_extension": ".py",
   "mimetype": "text/x-python",
   "name": "python",
   "nbconvert_exporter": "python",
   "pygments_lexer": "ipython3",
   "version": "3.8.5"
  }
 },
 "nbformat": 4,
 "nbformat_minor": 5
}
