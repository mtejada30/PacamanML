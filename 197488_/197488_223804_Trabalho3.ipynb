{
 "cells": [
  {
   "cell_type": "markdown",
   "id": "06fb1247",
   "metadata": {},
   "source": [
    "# MO444A - PROJETO 3\n",
    "\n",
    "Alunas:\n",
    "*   Maria Tejada Begazo (RA 197488)\n",
    "*   Nayara Ferreira da Silva (RA 223804)"
   ]
  },
  {
   "cell_type": "markdown",
   "id": "6f5c464b",
   "metadata": {},
   "source": [
    "## PART I - CODIGO"
   ]
  },
  {
   "cell_type": "code",
   "execution_count": 1,
   "id": "8f4a5449",
   "metadata": {},
   "outputs": [
    {
     "name": "stdout",
     "output_type": "stream",
     "text": [
      "/home/mtejada/Desktop/PacamanML/197488_/search\n"
     ]
    }
   ],
   "source": [
    "import os\n",
    "\n",
    "os.system('Xvfb :1 -screen 0 1600x1200x16  &')    # create virtual display with size 1600x1200 and 16 bit color. Color can be changed to 24 or 8\n",
    "os.environ['DISPLAY']=':1.0'    # tell X clients to use our virtual DISPLAY :1.0\n",
    "\n",
    "%cd search"
   ]
  },
  {
   "cell_type": "code",
   "execution_count": 2,
   "id": "c4a0f0b9",
   "metadata": {},
   "outputs": [],
   "source": [
    "p = !python3 pacman.py -n 1000 -l smallClassic -p RLagents --agentArgs \"index=0,tableMode=Small\""
   ]
  },
  {
   "cell_type": "code",
   "execution_count": 3,
   "id": "f9b335b8",
   "metadata": {
    "scrolled": false
   },
   "outputs": [
    {
     "data": {
      "text/plain": [
       "['layout:  smallClassic',\n",
       " 'Pacman died! Score: -458',\n",
       " 'Pacman died! Score: -462',\n",
       " 'Traceback (most recent call last):',\n",
       " '  File \"pacman.py\", line 681, in <module>',\n",
       " '    runGames( **args )',\n",
       " '  File \"pacman.py\", line 647, in runGames',\n",
       " '    game.run()',\n",
       " '  File \"/home/mtejada/Desktop/PacamanML/197488_/search/game.py\", line 688, in run',\n",
       " '    action = agent.getAction(observation)',\n",
       " '  File \"/home/mtejada/Desktop/PacamanML/197488_/search/RLagents.py\", line 82, in getAction',\n",
       " '    self.updateQtable(legalAction)',\n",
       " '  File \"/home/mtejada/Desktop/PacamanML/197488_/search/RLagents.py\", line 100, in updateQtable',\n",
       " '    qnext = np.max(self.table_[nexState])',\n",
       " 'IndexError: index 90 is out of bounds for axis 0 with size 90']"
      ]
     },
     "execution_count": 3,
     "metadata": {},
     "output_type": "execute_result"
    }
   ],
   "source": [
    "p\n"
   ]
  },
  {
   "cell_type": "code",
   "execution_count": 33,
   "id": "be787d4f",
   "metadata": {},
   "outputs": [],
   "source": [
    "import numpy as np\n",
    "\n",
    "q = [[0, 1, 10, 3, 4, 5],\n",
    "     [10, 11, 12, 13, 14, 15],\n",
    "     [100, 101, 102, 103, 104, 105]]\n",
    "q = np.array(q)"
   ]
  },
  {
   "cell_type": "code",
   "execution_count": 19,
   "id": "20bd9ada",
   "metadata": {},
   "outputs": [],
   "source": [
    "r, c = q.shape\n",
    "qq = np.array([0, 1, 2, 3, 4, 5, 10, 11, 12, 13, 14, 15, 100, 101, 102, 103, 104, 105])"
   ]
  },
  {
   "cell_type": "code",
   "execution_count": 24,
   "id": "3f2a3701",
   "metadata": {},
   "outputs": [],
   "source": [
    "def conver_(indx, indy, r, c):\n",
    "    return indx*c + indy\n",
    "    "
   ]
  },
  {
   "cell_type": "code",
   "execution_count": 28,
   "id": "4c15cbf9",
   "metadata": {},
   "outputs": [
    {
     "name": "stdout",
     "output_type": "stream",
     "text": [
      "104 104\n"
     ]
    }
   ],
   "source": [
    "idx = 2\n",
    "idy = 4\n",
    "print(q[idx, idy], qq[conver_(idx, idy, r, c)])"
   ]
  },
  {
   "cell_type": "code",
   "execution_count": 35,
   "id": "043d2ad0",
   "metadata": {},
   "outputs": [
    {
     "data": {
      "text/plain": [
       "2"
      ]
     },
     "execution_count": 35,
     "metadata": {},
     "output_type": "execute_result"
    }
   ],
   "source": [
    "np.argmax(q[0])"
   ]
  },
  {
   "cell_type": "code",
   "execution_count": null,
   "id": "4ae96026",
   "metadata": {},
   "outputs": [],
   "source": []
  }
 ],
 "metadata": {
  "kernelspec": {
   "display_name": "Python 3",
   "language": "python",
   "name": "python3"
  },
  "language_info": {
   "codemirror_mode": {
    "name": "ipython",
    "version": 3
   },
   "file_extension": ".py",
   "mimetype": "text/x-python",
   "name": "python",
   "nbconvert_exporter": "python",
   "pygments_lexer": "ipython3",
   "version": "3.8.5"
  }
 },
 "nbformat": 4,
 "nbformat_minor": 5
}
